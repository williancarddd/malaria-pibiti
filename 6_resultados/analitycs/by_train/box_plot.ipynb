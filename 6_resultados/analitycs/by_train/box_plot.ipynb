{
 "cells": [
  {
   "cell_type": "code",
   "execution_count": null,
   "metadata": {},
   "outputs": [],
   "source": [
    "import pandas as pd\n",
    "import os\n",
    "from pathlib import Path\n",
    "import matplotlib.pyplot as plt\n",
    "import numpy as np\n",
    "import seaborn as sns"
   ]
  },
  {
   "cell_type": "code",
   "execution_count": null,
   "metadata": {},
   "outputs": [],
   "source": [
    "NEURAL_NETWORKS = ['KNN', 'NBayes', 'GradientBoosting', \"RandomForest\", 'DenseNet201', 'MobileNetV2', 'InceptionV3', \"ResNet50\"]\n",
    "pre_name = \"box_plot\"\n",
    "path_project = Path().absolute().parent.parent.parent\n",
    "results_path = path_project / \"6_resultados\" / \"analitycs\" / \"by_train\"  / \"_pre_plot\" / \"refined\"\n",
    "save_path = path_project / \"6_resultados\" / \"analitycs\" / \"by_train\" / \"graphics\"\n"
   ]
  },
  {
   "cell_type": "code",
   "execution_count": null,
   "metadata": {},
   "outputs": [],
   "source": [
    "\n",
    "files = [f for f in os.listdir(results_path)]\n",
    "\n",
    "all_data = []\n",
    "for file in files:\n",
    "    if file.endswith(\".csv\"):\n",
    "        df = pd.read_csv(results_path / file)\n",
    "        all_data.append(df)\n",
    "\n",
    "df = pd.concat(all_data, axis=0, ignore_index=True)\n",
    "\n",
    "\n",
    "main_pd = df\n",
    "        \n"
   ]
  },
  {
   "cell_type": "code",
   "execution_count": null,
   "metadata": {},
   "outputs": [],
   "source": [
    "main_pd"
   ]
  },
  {
   "cell_type": "code",
   "execution_count": null,
   "metadata": {},
   "outputs": [],
   "source": [
    "import matplotlib.pyplot as plt\n",
    "import seaborn as sns\n",
    "import numpy as np\n",
    "\n",
    "def boxplot(main_pd, attribute):\n",
    "    NEURAL_NETWORKS = ['KNN', 'NBayes', 'GradientBoosting', \"RandomForest\", 'DenseNet201', 'MobileNetV2', 'InceptionV3', \"ResNet50\"]\n",
    "\n",
    "    plt.figure(figsize=(10, 6))\n",
    "    sns.boxplot(x=f\"{attribute}\",\n",
    "                y='network', \n",
    "                data=main_pd,\n",
    "                palette='Set1',\n",
    "                width=0.6,\n",
    "                linewidth=1.5,\n",
    "                fliersize=5,\n",
    "                orient='h',\n",
    "                whis=np.inf,\n",
    "                order=NEURAL_NETWORKS,\n",
    "                showmeans=True,\n",
    "                meanprops={\"marker\":\"x\",\n",
    "                           \"markerfacecolor\":\"white\", \n",
    "                           \"markeredgecolor\":\"black\", \n",
    "                           \"markersize\":\"5\"})\n",
    "\n",
    "    colors = ['gray', 'gray', 'gray', 'gray', '#2197c2', '#2197c2', '#2197c2', '#2197c2']\n",
    "    for i, patch in enumerate(plt.gca().patches):\n",
    "        patch.set_facecolor(colors[i % 8])\n",
    "\n",
    "    plt.xlabel('')\n",
    "    plt.ylabel('')\n",
    "\n",
    "    plt.xticks(np.arange(0, 1.1, 0.1), [f\"{int(i*100)}%\" for i in np.arange(0, 1.1, 0.1)])\n",
    "\n",
    "    # Annotate mean values on the right side\n",
    "    mean_values = main_pd.groupby('network')[attribute].mean()\n",
    "    for i, network in enumerate(NEURAL_NETWORKS):\n",
    "        mean_val = mean_values[network]\n",
    "        percent = mean_val * 100\n",
    "        plt.text(1.06, i, f'{percent:.2f}%', color='black', va='center', fontdict={'size': 11})\n",
    "    \n",
    "    # Add horizontal line at 3.5\n",
    "    plt.axhline(y=3.5, color='black', linewidth=1.5, linestyle='--')\n",
    "\n",
    "    # Add text in top right corner \"Mean(x)\"\n",
    "    plt.text(\n",
    "        1, -0.7, f\"Mean(x)\", color='black', va='center', fontdict={'size': 11,  'style': 'italic'}\n",
    "    )\n",
    "    \n",
    "    # Set dotted gridlines along y-axis\n",
    "    plt.grid(axis='y', linestyle='--')\n",
    "    plt.grid(axis='x', linestyle='-')\n",
    "\n",
    "    title = attribute.split('_')[1].capitalize()\n",
    "    # background color green and round border\n",
    "    plt.title(f'{title}', \n",
    "              fontsize=12, \n",
    "              fontweight='bold',\n",
    "              pad=10, color='black',\n",
    "              loc='center',\n",
    "              backgroundcolor='white',\n",
    "              bbox=dict(facecolor='lightgreen', edgecolor='none', boxstyle='round,pad=0.5'))\n",
    "\n",
    "\n",
    "    plt.savefig(save_path / f\"{pre_name}_{attribute}.pdf\", dpi=300, bbox_inches='tight')\n",
    "    plt.show()\n"
   ]
  },
  {
   "cell_type": "code",
   "execution_count": null,
   "metadata": {},
   "outputs": [],
   "source": [
    "COLUMNS = [\"val_sensitivity\", \"val_accuracy\", \"val_precision\", \"val_specificity\", \"val_f1_score\", \"val_auc\", \"val_npv\", \"val_mcc\"]\n",
    "\n",
    "for column in COLUMNS:\n",
    "    boxplot(main_pd, column)"
   ]
  },
  {
   "cell_type": "code",
   "execution_count": null,
   "metadata": {},
   "outputs": [],
   "source": [
    "# make plot 3d network X attribute x Roi\n",
    "\n",
    "# make plot 3d network X attribute x Roi\n",
    "\n",
    "def plot3dArea(main_pd, attribute):\n",
    "    NEURAL_NETWORKS = ['KNN', 'NBayes', 'GradientBoosting', \"RandomForest\", 'DenseNet201', 'MobileNetV2', 'InceptionV3', \"ResNet50\"]\n",
    "    fig = plt.figure(figsize=(10, 6))\n",
    "    ax = fig.add_subplot(111, projection='3d')\n",
    "\n",
    "    for i, network in enumerate(NEURAL_NETWORKS):\n",
    "        network_pd = main_pd[main_pd['network'] == network]\n",
    "        x = network_pd['dataset']\n",
    "        y = network_pd['network']\n",
    "        z = network_pd[attribute]\n",
    "\n",
    "        # convert to numeric\n",
    "\n",
    "        # x 0 to 100%\n",
    "        y = pd.Categorical(y, categories=NEURAL_NETWORKS, ordered=True).codes\n",
    "\n",
    "    \n",
    "        \n",
    "        ax.plot3D(z, x, y, 'o-')\n",
    "\n",
    "    ax.set_xlabel('ROI')\n",
    "    ax.set_ylabel('Network')\n",
    "    ax.set_zlabel(attribute)\n",
    "\n",
    "    plt.show()\n",
    "\n",
    "  \n",
    "plot3dArea(main_pd, 'val_precision')"
   ]
  }
 ],
 "metadata": {
  "kernelspec": {
   "display_name": "malaria_pibiti",
   "language": "python",
   "name": "python3"
  },
  "language_info": {
   "codemirror_mode": {
    "name": "ipython",
    "version": 3
   },
   "file_extension": ".py",
   "mimetype": "text/x-python",
   "name": "python",
   "nbconvert_exporter": "python",
   "pygments_lexer": "ipython3",
   "version": "3.10.12"
  }
 },
 "nbformat": 4,
 "nbformat_minor": 2
}
