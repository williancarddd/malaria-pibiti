{
 "cells": [
  {
   "cell_type": "code",
   "execution_count": 1,
   "metadata": {},
   "outputs": [],
   "source": [
    "import cv2\n",
    "import radiomics\n",
    "import matplotlib.pyplot as plt"
   ]
  },
  {
   "cell_type": "code",
   "execution_count": 7,
   "metadata": {},
   "outputs": [
    {
     "data": {
      "text/plain": [
       "True"
      ]
     },
     "execution_count": 7,
     "metadata": {},
     "output_type": "execute_result"
    }
   ],
   "source": [
    "mask = cv2.imread('/media/william/NVME/projects/malaria-pibiti/1_entrada/mask.bmp', cv2.IMREAD_GRAYSCALE)\n",
    "image = cv2.imread('/media/william/NVME/projects/malaria-pibiti/1_entrada/Dataset01_100/images/1-1-4-0.bmp', cv2.IMREAD_GRAYSCALE)\n",
    "\n",
    "# save images\n",
    "cv2.imwrite('mask.png', mask)\n",
    "cv2.imwrite('image.png', image)\n"
   ]
  },
  {
   "cell_type": "code",
   "execution_count": 25,
   "metadata": {},
   "outputs": [
    {
     "ename": "ValueError",
     "evalue": "Label (255) not present in mask. Choose from [104 105 106 107 108 109 110 111 112 113 114 115 116 117 118 119 120 121\n 122 123 124 125 126 127 128 129 130 131 132 133 134 135 136 137 138 139\n 140 141 142 143 144 145 146 147 148 149 150 151 152 153 154 155 156 157\n 158 159]",
     "output_type": "error",
     "traceback": [
      "\u001b[0;31m---------------------------------------------------------------------------\u001b[0m",
      "\u001b[0;31mValueError\u001b[0m                                Traceback (most recent call last)",
      "Cell \u001b[0;32mIn[25], line 20\u001b[0m\n\u001b[1;32m     17\u001b[0m extractor\u001b[38;5;241m.\u001b[39menableImageTypeByName(\u001b[38;5;124m'\u001b[39m\u001b[38;5;124mMorphological\u001b[39m\u001b[38;5;124m'\u001b[39m)\n\u001b[1;32m     18\u001b[0m extractor\u001b[38;5;241m.\u001b[39menableImageTypeByName(\u001b[38;5;124m'\u001b[39m\u001b[38;5;124mIntensity\u001b[39m\u001b[38;5;124m'\u001b[39m)\n\u001b[0;32m---> 20\u001b[0m featureVector \u001b[38;5;241m=\u001b[39m \u001b[43mextractor\u001b[49m\u001b[38;5;241;43m.\u001b[39;49m\u001b[43mexecute\u001b[49m\u001b[43m(\u001b[49m\u001b[38;5;124;43m'\u001b[39;49m\u001b[38;5;124;43mimage.png\u001b[39;49m\u001b[38;5;124;43m'\u001b[39;49m\u001b[43m,\u001b[49m\u001b[43m \u001b[49m\u001b[38;5;124;43m'\u001b[39;49m\u001b[38;5;124;43mimage.png\u001b[39;49m\u001b[38;5;124;43m'\u001b[39;49m\u001b[43m,\u001b[49m\u001b[43m \u001b[49m\u001b[43mlabel\u001b[49m\u001b[38;5;241;43m=\u001b[39;49m\u001b[38;5;241;43m255\u001b[39;49m\u001b[43m)\u001b[49m\n\u001b[1;32m     22\u001b[0m \u001b[38;5;28mprint\u001b[39m(\u001b[38;5;124m'\u001b[39m\u001b[38;5;124mResult type:\u001b[39m\u001b[38;5;124m'\u001b[39m, \u001b[38;5;28mtype\u001b[39m(featureVector))\n\u001b[1;32m     24\u001b[0m \u001b[38;5;28mprint\u001b[39m(\u001b[38;5;124m'\u001b[39m\u001b[38;5;124mCalculated features\u001b[39m\u001b[38;5;124m'\u001b[39m)\n",
      "File \u001b[0;32m~/miniconda3/envs/malaria-pibiti/lib/python3.8/site-packages/radiomics/featureextractor.py:272\u001b[0m, in \u001b[0;36mRadiomicsFeatureExtractor.execute\u001b[0;34m(self, imageFilepath, maskFilepath, label, label_channel, voxelBased)\u001b[0m\n\u001b[1;32m    270\u001b[0m \u001b[38;5;66;03m# 1. Load the image and mask\u001b[39;00m\n\u001b[1;32m    271\u001b[0m featureVector \u001b[38;5;241m=\u001b[39m collections\u001b[38;5;241m.\u001b[39mOrderedDict()\n\u001b[0;32m--> 272\u001b[0m image, mask \u001b[38;5;241m=\u001b[39m \u001b[38;5;28;43mself\u001b[39;49m\u001b[38;5;241;43m.\u001b[39;49m\u001b[43mloadImage\u001b[49m\u001b[43m(\u001b[49m\u001b[43mimageFilepath\u001b[49m\u001b[43m,\u001b[49m\u001b[43m \u001b[49m\u001b[43mmaskFilepath\u001b[49m\u001b[43m,\u001b[49m\u001b[43m \u001b[49m\u001b[43mgeneralInfo\u001b[49m\u001b[43m,\u001b[49m\u001b[43m \u001b[49m\u001b[38;5;241;43m*\u001b[39;49m\u001b[38;5;241;43m*\u001b[39;49m\u001b[43m_settings\u001b[49m\u001b[43m)\u001b[49m\n\u001b[1;32m    274\u001b[0m \u001b[38;5;66;03m# 2. Check whether loaded mask contains a valid ROI for feature extraction and get bounding box\u001b[39;00m\n\u001b[1;32m    275\u001b[0m \u001b[38;5;66;03m# Raises a ValueError if the ROI is invalid\u001b[39;00m\n\u001b[1;32m    276\u001b[0m boundingBox, correctedMask \u001b[38;5;241m=\u001b[39m imageoperations\u001b[38;5;241m.\u001b[39mcheckMask(image, mask, \u001b[38;5;241m*\u001b[39m\u001b[38;5;241m*\u001b[39m_settings)\n",
      "File \u001b[0;32m~/miniconda3/envs/malaria-pibiti/lib/python3.8/site-packages/radiomics/featureextractor.py:385\u001b[0m, in \u001b[0;36mRadiomicsFeatureExtractor.loadImage\u001b[0;34m(ImageFilePath, MaskFilePath, generalInfo, **kwargs)\u001b[0m\n\u001b[1;32m    382\u001b[0m   \u001b[38;5;28;01mraise\u001b[39;00m \u001b[38;5;167;01mValueError\u001b[39;00m(\u001b[38;5;124m'\u001b[39m\u001b[38;5;124mError reading mask Filepath or SimpleITK object\u001b[39m\u001b[38;5;124m'\u001b[39m)\n\u001b[1;32m    384\u001b[0m \u001b[38;5;66;03m# process the mask\u001b[39;00m\n\u001b[0;32m--> 385\u001b[0m mask \u001b[38;5;241m=\u001b[39m \u001b[43mimageoperations\u001b[49m\u001b[38;5;241;43m.\u001b[39;49m\u001b[43mgetMask\u001b[49m\u001b[43m(\u001b[49m\u001b[43mmask\u001b[49m\u001b[43m,\u001b[49m\u001b[43m \u001b[49m\u001b[38;5;241;43m*\u001b[39;49m\u001b[38;5;241;43m*\u001b[39;49m\u001b[43mkwargs\u001b[49m\u001b[43m)\u001b[49m\n\u001b[1;32m    387\u001b[0m \u001b[38;5;28;01mif\u001b[39;00m generalInfo \u001b[38;5;129;01mis\u001b[39;00m \u001b[38;5;129;01mnot\u001b[39;00m \u001b[38;5;28;01mNone\u001b[39;00m:\n\u001b[1;32m    388\u001b[0m   generalInfo\u001b[38;5;241m.\u001b[39maddImageElements(image)\n",
      "File \u001b[0;32m~/miniconda3/envs/malaria-pibiti/lib/python3.8/site-packages/radiomics/imageoperations.py:51\u001b[0m, in \u001b[0;36mgetMask\u001b[0;34m(mask, **kwargs)\u001b[0m\n\u001b[1;32m     49\u001b[0m   \u001b[38;5;28;01mraise\u001b[39;00m \u001b[38;5;167;01mValueError\u001b[39;00m(\u001b[38;5;124m'\u001b[39m\u001b[38;5;124mNo labels found in this mask (i.e. nothing is segmented)!\u001b[39m\u001b[38;5;124m'\u001b[39m)\n\u001b[1;32m     50\u001b[0m \u001b[38;5;28;01mif\u001b[39;00m label \u001b[38;5;129;01mnot\u001b[39;00m \u001b[38;5;129;01min\u001b[39;00m labels:\n\u001b[0;32m---> 51\u001b[0m   \u001b[38;5;28;01mraise\u001b[39;00m \u001b[38;5;167;01mValueError\u001b[39;00m(\u001b[38;5;124m'\u001b[39m\u001b[38;5;124mLabel (\u001b[39m\u001b[38;5;132;01m%g\u001b[39;00m\u001b[38;5;124m) not present in mask. Choose from \u001b[39m\u001b[38;5;132;01m%s\u001b[39;00m\u001b[38;5;124m'\u001b[39m \u001b[38;5;241m%\u001b[39m (label, labels[labels \u001b[38;5;241m!=\u001b[39m \u001b[38;5;241m0\u001b[39m]))\n\u001b[1;32m     53\u001b[0m \u001b[38;5;28;01mreturn\u001b[39;00m mask\n",
      "\u001b[0;31mValueError\u001b[0m: Label (255) not present in mask. Choose from [104 105 106 107 108 109 110 111 112 113 114 115 116 117 118 119 120 121\n 122 123 124 125 126 127 128 129 130 131 132 133 134 135 136 137 138 139\n 140 141 142 143 144 145 146 147 148 149 150 151 152 153 154 155 156 157\n 158 159]"
     ]
    }
   ],
   "source": [
    "radiomics.setVerbosity(60)\n",
    "extractor = radiomics.featureextractor.RadiomicsFeatureExtractor()\n",
    "extractor.enableImageTypeByName('Original')\n",
    "extractor.enableImageTypeByName('Wavelet')\n",
    "extractor.enableImageTypeByName('LoG')\n",
    "extractor.enableImageTypeByName('Square')\n",
    "extractor.enableImageTypeByName('SquareRoot')\n",
    "extractor.enableImageTypeByName('Exponential')\n",
    "extractor.enableImageTypeByName('Logarithm')\n",
    "extractor.enableImageTypeByName('Gradient')\n",
    "extractor.enableImageTypeByName('LBP')\n",
    "extractor.enableImageTypeByName('GLCM')\n",
    "extractor.enableImageTypeByName('GLRLM')\n",
    "extractor.enableImageTypeByName('GLSZM')\n",
    "extractor.enableImageTypeByName('NGTDM')\n",
    "extractor.enableImageTypeByName('Gabor')\n",
    "extractor.enableImageTypeByName('Morphological')\n",
    "extractor.enableImageTypeByName('Intensity')\n",
    "\n",
    "featureVector = extractor.execute(image, mask)\n",
    "\n",
    "print('Result type:', type(featureVector))\n",
    "\n",
    "print('Calculated features')\n",
    "for key, value in featureVector.items():\n",
    "    print(key, ' : ', value)\n"
   ]
  },
  {
   "cell_type": "code",
   "execution_count": null,
   "metadata": {},
   "outputs": [],
   "source": []
  }
 ],
 "metadata": {
  "kernelspec": {
   "display_name": "malaria-pibiti",
   "language": "python",
   "name": "python3"
  },
  "language_info": {
   "codemirror_mode": {
    "name": "ipython",
    "version": 3
   },
   "file_extension": ".py",
   "mimetype": "text/x-python",
   "name": "python",
   "nbconvert_exporter": "python",
   "pygments_lexer": "ipython3",
   "version": "3.8.19"
  }
 },
 "nbformat": 4,
 "nbformat_minor": 2
}
